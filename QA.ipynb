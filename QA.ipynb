{
 "cells": [
  {
   "cell_type": "code",
   "execution_count": 1,
   "metadata": {},
   "outputs": [
    {
     "name": "stdout",
     "output_type": "stream",
     "text": [
      "Collecting datasets\n",
      "  Using cached datasets-3.1.0-py3-none-any.whl.metadata (20 kB)\n",
      "Requirement already satisfied: lamini in c:\\users\\darab\\anaconda3\\envs\\rag\\lib\\site-packages (3.1.3)\n",
      "Requirement already satisfied: faiss-cpu in c:\\users\\darab\\anaconda3\\envs\\rag\\lib\\site-packages (1.9.0)\n",
      "Collecting filelock (from datasets)\n",
      "  Using cached filelock-3.16.1-py3-none-any.whl.metadata (2.9 kB)\n",
      "Requirement already satisfied: numpy>=1.17 in c:\\users\\darab\\anaconda3\\envs\\rag\\lib\\site-packages (from datasets) (1.26.4)\n",
      "Collecting pyarrow>=15.0.0 (from datasets)\n",
      "  Using cached pyarrow-18.0.0-cp311-cp311-win_amd64.whl.metadata (3.4 kB)\n",
      "Collecting dill<0.3.9,>=0.3.0 (from datasets)\n",
      "  Using cached dill-0.3.8-py3-none-any.whl.metadata (10 kB)\n",
      "Requirement already satisfied: pandas in c:\\users\\darab\\anaconda3\\envs\\rag\\lib\\site-packages (from datasets) (2.2.3)\n",
      "Requirement already satisfied: requests>=2.32.2 in c:\\users\\darab\\anaconda3\\envs\\rag\\lib\\site-packages (from datasets) (2.32.3)\n",
      "Requirement already satisfied: tqdm>=4.66.3 in c:\\users\\darab\\anaconda3\\envs\\rag\\lib\\site-packages (from datasets) (4.67.0)\n",
      "Collecting xxhash (from datasets)\n",
      "  Using cached xxhash-3.5.0-cp311-cp311-win_amd64.whl.metadata (13 kB)\n",
      "Collecting multiprocess<0.70.17 (from datasets)\n",
      "  Using cached multiprocess-0.70.16-py311-none-any.whl.metadata (7.2 kB)\n",
      "Collecting fsspec<=2024.9.0,>=2023.1.0 (from fsspec[http]<=2024.9.0,>=2023.1.0->datasets)\n",
      "  Using cached fsspec-2024.9.0-py3-none-any.whl.metadata (11 kB)\n",
      "Requirement already satisfied: aiohttp in c:\\users\\darab\\anaconda3\\envs\\rag\\lib\\site-packages (from datasets) (3.11.2)\n",
      "Collecting huggingface-hub>=0.23.0 (from datasets)\n",
      "  Using cached huggingface_hub-0.26.2-py3-none-any.whl.metadata (13 kB)\n",
      "Requirement already satisfied: packaging in c:\\users\\darab\\anaconda3\\envs\\rag\\lib\\site-packages (from datasets) (24.2)\n",
      "Requirement already satisfied: pyyaml>=5.1 in c:\\users\\darab\\anaconda3\\envs\\rag\\lib\\site-packages (from datasets) (6.0.2)\n",
      "Requirement already satisfied: lamini-configuration[yaml] in c:\\users\\darab\\anaconda3\\envs\\rag\\lib\\site-packages (from lamini) (0.8.3)\n",
      "Requirement already satisfied: jsonlines in c:\\users\\darab\\anaconda3\\envs\\rag\\lib\\site-packages (from lamini) (4.0.0)\n",
      "Requirement already satisfied: azure-storage-blob in c:\\users\\darab\\anaconda3\\envs\\rag\\lib\\site-packages (from lamini) (12.24.0)\n",
      "Requirement already satisfied: scikit-learn in c:\\users\\darab\\anaconda3\\envs\\rag\\lib\\site-packages (from lamini) (1.5.2)\n",
      "Requirement already satisfied: aiohappyeyeballs>=2.3.0 in c:\\users\\darab\\anaconda3\\envs\\rag\\lib\\site-packages (from aiohttp->datasets) (2.4.3)\n",
      "Requirement already satisfied: aiosignal>=1.1.2 in c:\\users\\darab\\anaconda3\\envs\\rag\\lib\\site-packages (from aiohttp->datasets) (1.3.1)\n",
      "Requirement already satisfied: attrs>=17.3.0 in c:\\users\\darab\\anaconda3\\envs\\rag\\lib\\site-packages (from aiohttp->datasets) (24.2.0)\n",
      "Requirement already satisfied: frozenlist>=1.1.1 in c:\\users\\darab\\anaconda3\\envs\\rag\\lib\\site-packages (from aiohttp->datasets) (1.5.0)\n",
      "Requirement already satisfied: multidict<7.0,>=4.5 in c:\\users\\darab\\anaconda3\\envs\\rag\\lib\\site-packages (from aiohttp->datasets) (6.1.0)\n",
      "Requirement already satisfied: propcache>=0.2.0 in c:\\users\\darab\\anaconda3\\envs\\rag\\lib\\site-packages (from aiohttp->datasets) (0.2.0)\n",
      "Requirement already satisfied: yarl<2.0,>=1.17.0 in c:\\users\\darab\\anaconda3\\envs\\rag\\lib\\site-packages (from aiohttp->datasets) (1.17.2)\n",
      "Requirement already satisfied: typing-extensions>=3.7.4.3 in c:\\users\\darab\\anaconda3\\envs\\rag\\lib\\site-packages (from huggingface-hub>=0.23.0->datasets) (4.12.2)\n",
      "Requirement already satisfied: charset-normalizer<4,>=2 in c:\\users\\darab\\anaconda3\\envs\\rag\\lib\\site-packages (from requests>=2.32.2->datasets) (3.4.0)\n",
      "Requirement already satisfied: idna<4,>=2.5 in c:\\users\\darab\\anaconda3\\envs\\rag\\lib\\site-packages (from requests>=2.32.2->datasets) (3.10)\n",
      "Requirement already satisfied: urllib3<3,>=1.21.1 in c:\\users\\darab\\anaconda3\\envs\\rag\\lib\\site-packages (from requests>=2.32.2->datasets) (2.2.3)\n",
      "Requirement already satisfied: certifi>=2017.4.17 in c:\\users\\darab\\anaconda3\\envs\\rag\\lib\\site-packages (from requests>=2.32.2->datasets) (2024.8.30)\n",
      "Requirement already satisfied: colorama in c:\\users\\darab\\anaconda3\\envs\\rag\\lib\\site-packages (from tqdm>=4.66.3->datasets) (0.4.6)\n",
      "Requirement already satisfied: azure-core>=1.30.0 in c:\\users\\darab\\anaconda3\\envs\\rag\\lib\\site-packages (from azure-storage-blob->lamini) (1.32.0)\n",
      "Requirement already satisfied: cryptography>=2.1.4 in c:\\users\\darab\\anaconda3\\envs\\rag\\lib\\site-packages (from azure-storage-blob->lamini) (43.0.3)\n",
      "Requirement already satisfied: isodate>=0.6.1 in c:\\users\\darab\\anaconda3\\envs\\rag\\lib\\site-packages (from azure-storage-blob->lamini) (0.7.2)\n",
      "Requirement already satisfied: python-dateutil>=2.8.2 in c:\\users\\darab\\anaconda3\\envs\\rag\\lib\\site-packages (from pandas->datasets) (2.9.0)\n",
      "Requirement already satisfied: pytz>=2020.1 in c:\\users\\darab\\anaconda3\\envs\\rag\\lib\\site-packages (from pandas->datasets) (2024.2)\n",
      "Requirement already satisfied: tzdata>=2022.7 in c:\\users\\darab\\anaconda3\\envs\\rag\\lib\\site-packages (from pandas->datasets) (2024.2)\n",
      "Requirement already satisfied: scipy>=1.6.0 in c:\\users\\darab\\anaconda3\\envs\\rag\\lib\\site-packages (from scikit-learn->lamini) (1.14.1)\n",
      "Requirement already satisfied: joblib>=1.2.0 in c:\\users\\darab\\anaconda3\\envs\\rag\\lib\\site-packages (from scikit-learn->lamini) (1.4.2)\n",
      "Requirement already satisfied: threadpoolctl>=3.1.0 in c:\\users\\darab\\anaconda3\\envs\\rag\\lib\\site-packages (from scikit-learn->lamini) (3.5.0)\n",
      "Requirement already satisfied: six>=1.11.0 in c:\\users\\darab\\anaconda3\\envs\\rag\\lib\\site-packages (from azure-core>=1.30.0->azure-storage-blob->lamini) (1.16.0)\n",
      "Requirement already satisfied: cffi>=1.12 in c:\\users\\darab\\anaconda3\\envs\\rag\\lib\\site-packages (from cryptography>=2.1.4->azure-storage-blob->lamini) (1.17.1)\n",
      "Requirement already satisfied: pycparser in c:\\users\\darab\\anaconda3\\envs\\rag\\lib\\site-packages (from cffi>=1.12->cryptography>=2.1.4->azure-storage-blob->lamini) (2.22)\n",
      "Using cached datasets-3.1.0-py3-none-any.whl (480 kB)\n",
      "Using cached dill-0.3.8-py3-none-any.whl (116 kB)\n",
      "Using cached fsspec-2024.9.0-py3-none-any.whl (179 kB)\n",
      "Using cached huggingface_hub-0.26.2-py3-none-any.whl (447 kB)\n",
      "Using cached multiprocess-0.70.16-py311-none-any.whl (143 kB)\n",
      "Using cached pyarrow-18.0.0-cp311-cp311-win_amd64.whl (25.1 MB)\n",
      "Using cached filelock-3.16.1-py3-none-any.whl (16 kB)\n",
      "Using cached xxhash-3.5.0-cp311-cp311-win_amd64.whl (30 kB)\n",
      "Installing collected packages: xxhash, pyarrow, fsspec, filelock, dill, multiprocess, huggingface-hub, datasets\n",
      "Successfully installed datasets-3.1.0 dill-0.3.8 filelock-3.16.1 fsspec-2024.9.0 huggingface-hub-0.26.2 multiprocess-0.70.16 pyarrow-18.0.0 xxhash-3.5.0\n"
     ]
    }
   ],
   "source": [
    "! pip install datasets lamini faiss-cpu"
   ]
  },
  {
   "cell_type": "code",
   "execution_count": 1,
   "metadata": {},
   "outputs": [
    {
     "name": "stderr",
     "output_type": "stream",
     "text": [
      "c:\\Users\\darab\\anaconda3\\envs\\RAG\\Lib\\site-packages\\tqdm\\auto.py:21: TqdmWarning: IProgress not found. Please update jupyter and ipywidgets. See https://ipywidgets.readthedocs.io/en/stable/user_install.html\n",
      "  from .autonotebook import tqdm as notebook_tqdm\n"
     ]
    }
   ],
   "source": [
    "from datasets import load_dataset\n",
    "import os"
   ]
  },
  {
   "cell_type": "code",
   "execution_count": 2,
   "metadata": {},
   "outputs": [],
   "source": [
    "dataset = load_dataset(\"wikipedia\", \"20220301.en\", trust_remote_code=True)\n",
    "dataset = dataset['train'][:100]"
   ]
  },
  {
   "cell_type": "code",
   "execution_count": null,
   "metadata": {},
   "outputs": [],
   "source": [
    "def write_wikipedia_samples_from_dataset(dataset, output_dir):\n",
    "    output_dir = os.path.join(os.getcwd(), output_dir)\n",
    "    titles = dataset['title']\n",
    "    texts = dataset['text']\n",
    "    for i in range(100):\n",
    "        title = titles[i]\n",
    "        text = texts[i]\n",
    "        filename = os.path.join(output_dir, f\"{i + 1}_{title.replace('/', '_')}.txt\")\n",
    "        with open(filename, 'w', encoding='utf-8') as f:\n",
    "            f.write(f\"Title: {title}\\n\\n{text}\")\n",
    "write_wikipedia_samples_from_dataset(dataset=dataset, output_dir=\"data\")"
   ]
  }
 ],
 "metadata": {
  "kernelspec": {
   "display_name": "RAG",
   "language": "python",
   "name": "python3"
  },
  "language_info": {
   "codemirror_mode": {
    "name": "ipython",
    "version": 3
   },
   "file_extension": ".py",
   "mimetype": "text/x-python",
   "name": "python",
   "nbconvert_exporter": "python",
   "pygments_lexer": "ipython3",
   "version": "3.11.10"
  }
 },
 "nbformat": 4,
 "nbformat_minor": 2
}
